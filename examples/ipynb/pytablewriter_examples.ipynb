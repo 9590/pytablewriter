{
 "cells": [
  {
   "cell_type": "code",
   "execution_count": 1,
   "metadata": {
    "collapsed": true
   },
   "outputs": [],
   "source": [
    "import pytablewriter\n",
    "\n",
    "data = [\n",
    "    [\"1\", \"AD\", \"Europe/Andorra\"],\n",
    "    [\"2\", \"AE\", \"Asia/Dubai\"],\n",
    "    [\"3\", \"AF\", \"Asia/Kabul\"],\n",
    "    [\"4\", \"AG\", \"America/Antigua\"],\n",
    "    [\"5\", \"AI\", \"America/Anguilla\"],\n",
    "]"
   ]
  },
  {
   "cell_type": "code",
   "execution_count": 2,
   "metadata": {
    "collapsed": false
   },
   "outputs": [
    {
     "name": "stdout",
     "output_type": "stream",
     "text": [
      "\"zone_id\",\"country_code\",\"zone_name\"\n",
      "1,\"AD\",\"Europe/Andorra\"\n",
      "2,\"AE\",\"Asia/Dubai\"\n",
      "3,\"AF\",\"Asia/Kabul\"\n",
      "4,\"AG\",\"America/Antigua\"\n",
      "5,\"AI\",\"America/Anguilla\"\n"
     ]
    }
   ],
   "source": [
    "writer = pytablewriter.CsvTableWriter()\n",
    "writer.header_list = [\"zone_id\", \"country_code\", \"zone_name\"]\n",
    "writer.value_matrix = data\n",
    "\n",
    "writer.write_table()"
   ]
  },
  {
   "cell_type": "code",
   "execution_count": 3,
   "metadata": {
    "collapsed": false
   },
   "outputs": [
    {
     "name": "stdout",
     "output_type": "stream",
     "text": [
      "\"zone_id\"\t\"country_code\"\t\"zone_name\"\n",
      "1\t\"AD\"\t\"Europe/Andorra\"\n",
      "2\t\"AE\"\t\"Asia/Dubai\"\n",
      "3\t\"AF\"\t\"Asia/Kabul\"\n",
      "4\t\"AG\"\t\"America/Antigua\"\n",
      "5\t\"AI\"\t\"America/Anguilla\"\n"
     ]
    }
   ],
   "source": [
    "writer = pytablewriter.CsvTableWriter()\n",
    "writer.header_list = [\"zone_id\", \"country_code\", \"zone_name\"]\n",
    "writer.value_matrix = data\n",
    "writer.column_delimiter = \"\\t\"\n",
    "\n",
    "writer.write_table()"
   ]
  },
  {
   "cell_type": "code",
   "execution_count": 4,
   "metadata": {
    "collapsed": false
   },
   "outputs": [
    {
     "name": "stdout",
     "output_type": "stream",
     "text": [
      "<table id=\"Timezone\">\n",
      "    <caption>Timezone</caption>\n",
      "    <thead>\n",
      "        <tr>\n",
      "            <th>zone_id</th>\n",
      "            <th>country_code</th>\n",
      "            <th>zone_name</th>\n",
      "        </tr>\n",
      "    </thead>\n",
      "    <tbody>\n",
      "        <tr>\n",
      "            <td align=\"right\">1</td>\n",
      "            <td align=\"left\">AD</td>\n",
      "            <td align=\"left\">Europe/Andorra</td>\n",
      "        </tr>\n",
      "        <tr>\n",
      "            <td align=\"right\">2</td>\n",
      "            <td align=\"left\">AE</td>\n",
      "            <td align=\"left\">Asia/Dubai</td>\n",
      "        </tr>\n",
      "        <tr>\n",
      "            <td align=\"right\">3</td>\n",
      "            <td align=\"left\">AF</td>\n",
      "            <td align=\"left\">Asia/Kabul</td>\n",
      "        </tr>\n",
      "        <tr>\n",
      "            <td align=\"right\">4</td>\n",
      "            <td align=\"left\">AG</td>\n",
      "            <td align=\"left\">America/Antigua</td>\n",
      "        </tr>\n",
      "        <tr>\n",
      "            <td align=\"right\">5</td>\n",
      "            <td align=\"left\">AI</td>\n",
      "            <td align=\"left\">America/Anguilla</td>\n",
      "        </tr>\n",
      "    </tbody>\n",
      "</table>\n"
     ]
    }
   ],
   "source": [
    "writer = pytablewriter.HtmlTableWriter()\n",
    "writer.table_name = \"Timezone\"\n",
    "writer.header_list = [\"zone_id\", \"country_code\", \"zone_name\"]\n",
    "writer.value_matrix = data\n",
    "\n",
    "writer.write_table()"
   ]
  },
  {
   "cell_type": "code",
   "execution_count": 5,
   "metadata": {
    "collapsed": false
   },
   "outputs": [
    {
     "name": "stdout",
     "output_type": "stream",
     "text": [
      "var Timezone = [\n",
      "    [\"zone_id\", \"country_code\", \"zone_name\"],\n",
      "    [1, \"AD\", \"Europe/Andorra\"],\n",
      "    [2, \"AE\", \"Asia/Dubai\"],\n",
      "    [3, \"AF\", \"Asia/Kabul\"],\n",
      "    [4, \"AG\", \"America/Antigua\"],\n",
      "    [5, \"AI\", \"America/Anguilla\"]\n",
      "];\n"
     ]
    }
   ],
   "source": [
    "writer = pytablewriter.JavaScriptTableWriter()\n",
    "writer.table_name = \"Timezone\"\n",
    "writer.header_list = [\"zone_id\", \"country_code\", \"zone_name\"]\n",
    "writer.value_matrix = data\n",
    "\n",
    "writer.write_table()"
   ]
  },
  {
   "cell_type": "code",
   "execution_count": 6,
   "metadata": {
    "collapsed": false
   },
   "outputs": [
    {
     "name": "stdout",
     "output_type": "stream",
     "text": [
      "[\n",
      "    {\n",
      "        \"country_code\": \"AD\",\n",
      "        \"zone_id\": 1,\n",
      "        \"zone_name\": \"Europe/Andorra\"\n",
      "    },\n",
      "    {\n",
      "        \"country_code\": \"AE\",\n",
      "        \"zone_id\": 2,\n",
      "        \"zone_name\": \"Asia/Dubai\"\n",
      "    },\n",
      "    {\n",
      "        \"country_code\": \"AF\",\n",
      "        \"zone_id\": 3,\n",
      "        \"zone_name\": \"Asia/Kabul\"\n",
      "    },\n",
      "    {\n",
      "        \"country_code\": \"AG\",\n",
      "        \"zone_id\": 4,\n",
      "        \"zone_name\": \"America/Antigua\"\n",
      "    },\n",
      "    {\n",
      "        \"country_code\": \"AI\",\n",
      "        \"zone_id\": 5,\n",
      "        \"zone_name\": \"America/Anguilla\"\n",
      "    }\n",
      "]\n"
     ]
    }
   ],
   "source": [
    "writer = pytablewriter.JsonTableWriter()\n",
    "#writer.table_name = \"Timezone\"\n",
    "writer.header_list = [\"zone_id\", \"country_code\", \"zone_name\"]\n",
    "writer.value_matrix = data\n",
    "\n",
    "writer.write_table()"
   ]
  },
  {
   "cell_type": "code",
   "execution_count": 7,
   "metadata": {
    "collapsed": false
   },
   "outputs": [
    {
     "name": "stdout",
     "output_type": "stream",
     "text": [
      "{\n",
      "    \"Timezone\": [\n",
      "        {\n",
      "            \"country_code\": \"AD\",\n",
      "            \"zone_id\": 1,\n",
      "            \"zone_name\": \"Europe/Andorra\"\n",
      "        },\n",
      "        {\n",
      "            \"country_code\": \"AE\",\n",
      "            \"zone_id\": 2,\n",
      "            \"zone_name\": \"Asia/Dubai\"\n",
      "        },\n",
      "        {\n",
      "            \"country_code\": \"AF\",\n",
      "            \"zone_id\": 3,\n",
      "            \"zone_name\": \"Asia/Kabul\"\n",
      "        },\n",
      "        {\n",
      "            \"country_code\": \"AG\",\n",
      "            \"zone_id\": 4,\n",
      "            \"zone_name\": \"America/Antigua\"\n",
      "        },\n",
      "        {\n",
      "            \"country_code\": \"AI\",\n",
      "            \"zone_id\": 5,\n",
      "            \"zone_name\": \"America/Anguilla\"\n",
      "        }\n",
      "    ]\n",
      "}\n"
     ]
    }
   ],
   "source": [
    "writer = pytablewriter.JsonTableWriter()\n",
    "writer.table_name = \"Timezone\"\n",
    "writer.header_list = [\"zone_id\", \"country_code\", \"zone_name\"]\n",
    "writer.value_matrix = data\n",
    "\n",
    "writer.write_table()"
   ]
  },
  {
   "cell_type": "code",
   "execution_count": 8,
   "metadata": {
    "collapsed": false
   },
   "outputs": [
    {
     "name": "stdout",
     "output_type": "stream",
     "text": [
      "# Timezone\n",
      "zone_id|country_code|   zone_name    \n",
      "------:|------------|----------------\n",
      "      1|AD          |Europe/Andorra  \n",
      "      2|AE          |Asia/Dubai      \n",
      "      3|AF          |Asia/Kabul      \n",
      "      4|AG          |America/Antigua \n",
      "      5|AI          |America/Anguilla\n"
     ]
    }
   ],
   "source": [
    "writer = pytablewriter.MarkdownTableWriter()\n",
    "writer.table_name = \"Timezone\"\n",
    "writer.header_list = [\"zone_id\", \"country_code\", \"zone_name\"]\n",
    "writer.value_matrix = data\n",
    "\n",
    "writer.write_table()"
   ]
  },
  {
   "cell_type": "code",
   "execution_count": 9,
   "metadata": {
    "collapsed": false
   },
   "outputs": [
    {
     "name": "stdout",
     "output_type": "stream",
     "text": [
      "Timezone = pandas.DataFrame(\n",
      "    {'country_code': ['AD', 'AE', 'AF', 'AG', 'AI'],\n",
      "     'zone_id': [1, 2, 3, 4, 5],\n",
      "     'zone_name': ['Europe/Andorra',\n",
      "                   'Asia/Dubai',\n",
      "                   'Asia/Kabul',\n",
      "                   'America/Antigua',\n",
      "                   'America/Anguilla']})\n"
     ]
    }
   ],
   "source": [
    "writer = pytablewriter.PandasDataFrameWriter()\n",
    "writer.table_name = \"Timezone\"\n",
    "writer.header_list = [\"zone_id\", \"country_code\", \"zone_name\"]\n",
    "writer.value_matrix = data\n",
    "\n",
    "writer.write_table()"
   ]
  },
  {
   "cell_type": "code",
   "execution_count": 10,
   "metadata": {
    "collapsed": false
   },
   "outputs": [
    {
     "name": "stdout",
     "output_type": "stream",
     "text": [
      "Timezone = [\n",
      "    [\"zone_id\", \"country_code\", \"zone_name\"],\n",
      "    [1, \"AD\", \"Europe/Andorra\"],\n",
      "    [2, \"AE\", \"Asia/Dubai\"],\n",
      "    [3, \"AF\", \"Asia/Kabul\"],\n",
      "    [4, \"AG\", \"America/Antigua\"],\n",
      "    [5, \"AI\", \"America/Anguilla\"],\n",
      "]\n"
     ]
    }
   ],
   "source": [
    "writer = pytablewriter.PythonCodeTableWriter()\n",
    "writer.table_name = \"Timezone\"\n",
    "writer.header_list = [\"zone_id\", \"country_code\", \"zone_name\"]\n",
    "writer.value_matrix = data\n",
    "\n",
    "writer.write_table()\n"
   ]
  },
  {
   "cell_type": "code",
   "execution_count": 11,
   "metadata": {
    "collapsed": false,
    "scrolled": true
   },
   "outputs": [
    {
     "name": "stdout",
     "output_type": "stream",
     "text": [
      ".. table:: Timezone\n",
      "\n",
      "    +-------+------------+----------------+\n",
      "    |zone_id|country_code|   zone_name    |\n",
      "    +=======+============+================+\n",
      "    |      1|AD          |Europe/Andorra  |\n",
      "    +-------+------------+----------------+\n",
      "    |      2|AE          |Asia/Dubai      |\n",
      "    +-------+------------+----------------+\n",
      "    |      3|AF          |Asia/Kabul      |\n",
      "    +-------+------------+----------------+\n",
      "    |      4|AG          |America/Antigua |\n",
      "    +-------+------------+----------------+\n",
      "    |      5|AI          |America/Anguilla|\n",
      "    +-------+------------+----------------+\n"
     ]
    }
   ],
   "source": [
    "writer = pytablewriter.RstGridTableWriter()\n",
    "writer.table_name = \"Timezone\"\n",
    "writer.header_list = [\"zone_id\", \"country_code\", \"zone_name\"]\n",
    "writer.value_matrix = data\n",
    "\n",
    "writer.write_table()"
   ]
  },
  {
   "cell_type": "code",
   "execution_count": 12,
   "metadata": {
    "collapsed": false
   },
   "outputs": [
    {
     "name": "stdout",
     "output_type": "stream",
     "text": [
      ".. table:: Timezone\n",
      "\n",
      "    =======  ============  ================\n",
      "    zone_id  country_code     zone_name    \n",
      "    =======  ============  ================\n",
      "          1  AD            Europe/Andorra  \n",
      "          2  AE            Asia/Dubai      \n",
      "          3  AF            Asia/Kabul      \n",
      "          4  AG            America/Antigua \n",
      "          5  AI            America/Anguilla\n",
      "    =======  ============  ================\n"
     ]
    }
   ],
   "source": [
    "writer = pytablewriter.RstSimpleTableWriter()\n",
    "writer.table_name = \"Timezone\"\n",
    "writer.header_list = [\"zone_id\", \"country_code\", \"zone_name\"]\n",
    "writer.value_matrix = data\n",
    "\n",
    "writer.write_table()"
   ]
  },
  {
   "cell_type": "code",
   "execution_count": 13,
   "metadata": {
    "collapsed": false
   },
   "outputs": [
    {
     "name": "stdout",
     "output_type": "stream",
     "text": [
      ".. csv-table:: Timezone\n",
      "    :header: \"zone_id\", \"country_code\", \"zone_name\"\n",
      "    :widths: 7, 12, 16\n",
      "    \n",
      "    1, \"AD\", \"Europe/Andorra\"\n",
      "    2, \"AE\", \"Asia/Dubai\"\n",
      "    3, \"AF\", \"Asia/Kabul\"\n",
      "    4, \"AG\", \"America/Antigua\"\n",
      "    5, \"AI\", \"America/Anguilla\"\n"
     ]
    }
   ],
   "source": [
    "writer = pytablewriter.RstCsvTableWriter()\n",
    "writer.table_name = \"Timezone\"\n",
    "writer.header_list = [\"zone_id\", \"country_code\", \"zone_name\"]\n",
    "writer.value_matrix = data\n",
    "\n",
    "writer.write_table()"
   ]
  }
 ],
 "metadata": {
  "kernelspec": {
   "display_name": "Python 3",
   "language": "python",
   "name": "python3"
  },
  "language_info": {
   "codemirror_mode": {
    "name": "ipython",
    "version": 3
   },
   "file_extension": ".py",
   "mimetype": "text/x-python",
   "name": "python",
   "nbconvert_exporter": "python",
   "pygments_lexer": "ipython3",
   "version": "3.5.1"
  }
 },
 "nbformat": 4,
 "nbformat_minor": 0
}
