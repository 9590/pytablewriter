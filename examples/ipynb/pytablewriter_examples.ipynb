{
 "cells": [
  {
   "cell_type": "code",
   "execution_count": 1,
   "metadata": {
    "collapsed": true
   },
   "outputs": [],
   "source": [
    "import pytablewriter\n",
    "\n",
    "table_name = \"example_table\"\n",
    "header_list = [\"int\", \"float\", \"str\", \"bool\", \"mix\", \"time\"]\n",
    "data = [\n",
    "    [0,   0.1,      \"hoge\", True,   0,      \"2017-01-01 03:04:05+0900\"],\n",
    "    [2,   \"-2.23\",  \"foo\",  False,  None,   \"2017-12-23 12:34:51+0900\"],\n",
    "    [3,   0,        \"bar\",  \"true\",  \"inf\", \"2017-03-03 22:44:55+0900\"],\n",
    "    [-10, -9.9,     \"\",     \"FALSE\", \"nan\", \"2017-01-01 00:00:00+0900\"],\n",
    "]"
   ]
  },
  {
   "cell_type": "code",
   "execution_count": 2,
   "metadata": {
    "collapsed": false
   },
   "outputs": [
    {
     "name": "stdout",
     "output_type": "stream",
     "text": [
      "csv\n",
      "excel\n",
      "html\n",
      "javascript\n",
      "js\n",
      "json\n",
      "ltsv\n",
      "markdown\n",
      "mediawiki\n",
      "null\n",
      "pandas\n",
      "py\n",
      "python\n",
      "rst\n",
      "rst_csv_table\n",
      "rst_grid_table\n",
      "rst_simple_table\n",
      "toml\n",
      "tsv\n"
     ]
    }
   ],
   "source": [
    "for name in pytablewriter.TableWriterFactory.get_format_name_list():\n",
    "    print(name)"
   ]
  },
  {
   "cell_type": "code",
   "execution_count": 3,
   "metadata": {
    "collapsed": false
   },
   "outputs": [
    {
     "name": "stdout",
     "output_type": "stream",
     "text": [
      "csv\n",
      "htm\n",
      "html\n",
      "js\n",
      "json\n",
      "ltsv\n",
      "md\n",
      "py\n",
      "rst\n",
      "toml\n",
      "tsv\n",
      "xls\n",
      "xlsx\n"
     ]
    }
   ],
   "source": [
    "for name in pytablewriter.TableWriterFactory.get_extension_list():\n",
    "    print(name)"
   ]
  },
  {
   "cell_type": "code",
   "execution_count": 4,
   "metadata": {
    "collapsed": false,
    "scrolled": true
   },
   "outputs": [
    {
     "name": "stdout",
     "output_type": "stream",
     "text": [
      "\"int\",\"float\",\"str\",\"bool\",\"mix\",\"time\"\n",
      "0,0.10,\"hoge\",True,0,\"2017-01-01 03:04:05+0900\"\n",
      "2,-2.23,\"foo\",False,,\"2017-12-23 12:34:51+0900\"\n",
      "3,0.00,\"bar\",True,Infinity,\"2017-03-03 22:44:55+0900\"\n",
      "-10,-9.90,\"\",False,NaN,\"2017-01-01 00:00:00+0900\"\n"
     ]
    }
   ],
   "source": [
    "writer = pytablewriter.CsvTableWriter()\n",
    "writer.header_list = header_list\n",
    "writer.value_matrix = data\n",
    "\n",
    "writer.write_table()"
   ]
  },
  {
   "cell_type": "code",
   "execution_count": 5,
   "metadata": {
    "collapsed": false
   },
   "outputs": [
    {
     "name": "stdout",
     "output_type": "stream",
     "text": [
      "\"int\"\t\"float\"\t\"str\"\t\"bool\"\t\"mix\"\t\"time\"\n",
      "0\t0.10\t\"hoge\"\tTrue\t0\t\"2017-01-01 03:04:05+0900\"\n",
      "2\t-2.23\t\"foo\"\tFalse\t\t\"2017-12-23 12:34:51+0900\"\n",
      "3\t0.00\t\"bar\"\tTrue\tInfinity\t\"2017-03-03 22:44:55+0900\"\n",
      "-10\t-9.90\t\"\"\tFalse\tNaN\t\"2017-01-01 00:00:00+0900\"\n"
     ]
    }
   ],
   "source": [
    "writer = pytablewriter.TsvTableWriter()\n",
    "writer.header_list = header_list\n",
    "writer.value_matrix = data\n",
    "\n",
    "writer.write_table()"
   ]
  },
  {
   "cell_type": "code",
   "execution_count": 6,
   "metadata": {
    "collapsed": false
   },
   "outputs": [
    {
     "name": "stdout",
     "output_type": "stream",
     "text": [
      "<table id=\"example_table\">\n",
      "    <caption>example_table</caption>\n",
      "    <thead>\n",
      "        <tr>\n",
      "            <th>int</th>\n",
      "            <th>float</th>\n",
      "            <th>str</th>\n",
      "            <th>bool</th>\n",
      "            <th>mix</th>\n",
      "            <th>time</th>\n",
      "        </tr>\n",
      "    </thead>\n",
      "    <tbody>\n",
      "        <tr>\n",
      "            <td align=\"right\">0</td>\n",
      "            <td align=\"right\">0.10</td>\n",
      "            <td align=\"left\">hoge</td>\n",
      "            <td align=\"left\">True</td>\n",
      "            <td align=\"right\">0</td>\n",
      "            <td align=\"left\">2017-01-01 03:04:05+0900</td>\n",
      "        </tr>\n",
      "        <tr>\n",
      "            <td align=\"right\">2</td>\n",
      "            <td align=\"right\">-2.23</td>\n",
      "            <td align=\"left\">foo</td>\n",
      "            <td align=\"left\">False</td>\n",
      "            <td align=\"left\"></td>\n",
      "            <td align=\"left\">2017-12-23 12:34:51+0900</td>\n",
      "        </tr>\n",
      "        <tr>\n",
      "            <td align=\"right\">3</td>\n",
      "            <td align=\"right\">0.00</td>\n",
      "            <td align=\"left\">bar</td>\n",
      "            <td align=\"left\">True</td>\n",
      "            <td align=\"left\">Infinity</td>\n",
      "            <td align=\"left\">2017-03-03 22:44:55+0900</td>\n",
      "        </tr>\n",
      "        <tr>\n",
      "            <td align=\"right\">-10</td>\n",
      "            <td align=\"right\">-9.90</td>\n",
      "            <td align=\"left\"></td>\n",
      "            <td align=\"left\">False</td>\n",
      "            <td align=\"left\">NaN</td>\n",
      "            <td align=\"left\">2017-01-01 00:00:00+0900</td>\n",
      "        </tr>\n",
      "    </tbody>\n",
      "</table>\n"
     ]
    }
   ],
   "source": [
    "writer = pytablewriter.HtmlTableWriter()\n",
    "writer.table_name = table_name\n",
    "writer.header_list = header_list\n",
    "writer.value_matrix = data\n",
    "\n",
    "writer.write_table()"
   ]
  },
  {
   "cell_type": "code",
   "execution_count": 7,
   "metadata": {
    "collapsed": false
   },
   "outputs": [
    {
     "name": "stdout",
     "output_type": "stream",
     "text": [
      "var example_table = [\n",
      "    [\"int\", \"float\", \"str\", \"bool\", \"mix\", \"time\"],\n",
      "    [0, 0.10, \"hoge\", true, 0, new Date(\"2017-01-01T03:04:05+0900\")],\n",
      "    [2, -2.23, \"foo\", false, null, new Date(\"2017-12-23T12:34:51+0900\")],\n",
      "    [3, 0.00, \"bar\", true, Infinity, new Date(\"2017-03-03T22:44:55+0900\")],\n",
      "    [-10, -9.90, \"\", false, NaN, new Date(\"2017-01-01T00:00:00+0900\")]\n",
      "];\n"
     ]
    }
   ],
   "source": [
    "writer = pytablewriter.JavaScriptTableWriter()\n",
    "writer.table_name = table_name\n",
    "writer.header_list = header_list\n",
    "writer.value_matrix = data\n",
    "\n",
    "writer.write_table()"
   ]
  },
  {
   "cell_type": "code",
   "execution_count": 8,
   "metadata": {
    "collapsed": false
   },
   "outputs": [
    {
     "name": "stdout",
     "output_type": "stream",
     "text": [
      "[\n",
      "{\n",
      "    \"bool\": true, \n",
      "    \"float\": 0.1, \n",
      "    \"int\": 0, \n",
      "    \"mix\": 0, \n",
      "    \"str\": \"hoge\", \n",
      "    \"time\": \"2017-01-01 03:04:05+0900\"\n",
      "},\n",
      "{\n",
      "    \"bool\": false, \n",
      "    \"float\": -2.23, \n",
      "    \"int\": 2, \n",
      "    \"mix\": null, \n",
      "    \"str\": \"foo\", \n",
      "    \"time\": \"2017-12-23 12:34:51+0900\"\n",
      "},\n",
      "{\n",
      "    \"bool\": true, \n",
      "    \"float\": 0, \n",
      "    \"int\": 3, \n",
      "    \"mix\": \"Infinity\", \n",
      "    \"str\": \"bar\", \n",
      "    \"time\": \"2017-03-03 22:44:55+0900\"\n",
      "},\n",
      "{\n",
      "    \"bool\": false, \n",
      "    \"float\": -9.9, \n",
      "    \"int\": -10, \n",
      "    \"mix\": \"NaN\", \n",
      "    \"str\": \"\", \n",
      "    \"time\": \"2017-01-01 00:00:00+0900\"\n",
      "}]\n"
     ]
    }
   ],
   "source": [
    "writer = pytablewriter.JsonTableWriter()\n",
    "#writer.table_name = \"Timezone\"\n",
    "writer.header_list = header_list\n",
    "writer.value_matrix = data\n",
    "\n",
    "writer.write_table()"
   ]
  },
  {
   "cell_type": "code",
   "execution_count": 9,
   "metadata": {
    "collapsed": false
   },
   "outputs": [
    {
     "name": "stdout",
     "output_type": "stream",
     "text": [
      "{ \"example_table\" : [\n",
      "{\n",
      "    \"bool\": true, \n",
      "    \"float\": 0.1, \n",
      "    \"int\": 0, \n",
      "    \"mix\": 0, \n",
      "    \"str\": \"hoge\", \n",
      "    \"time\": \"2017-01-01 03:04:05+0900\"\n",
      "},\n",
      "{\n",
      "    \"bool\": false, \n",
      "    \"float\": -2.23, \n",
      "    \"int\": 2, \n",
      "    \"mix\": null, \n",
      "    \"str\": \"foo\", \n",
      "    \"time\": \"2017-12-23 12:34:51+0900\"\n",
      "},\n",
      "{\n",
      "    \"bool\": true, \n",
      "    \"float\": 0, \n",
      "    \"int\": 3, \n",
      "    \"mix\": \"Infinity\", \n",
      "    \"str\": \"bar\", \n",
      "    \"time\": \"2017-03-03 22:44:55+0900\"\n",
      "},\n",
      "{\n",
      "    \"bool\": false, \n",
      "    \"float\": -9.9, \n",
      "    \"int\": -10, \n",
      "    \"mix\": \"NaN\", \n",
      "    \"str\": \"\", \n",
      "    \"time\": \"2017-01-01 00:00:00+0900\"\n",
      "}]}\n"
     ]
    }
   ],
   "source": [
    "writer = pytablewriter.JsonTableWriter()\n",
    "writer.table_name = table_name\n",
    "writer.header_list = header_list\n",
    "writer.value_matrix = data\n",
    "\n",
    "writer.write_table()"
   ]
  },
  {
   "cell_type": "code",
   "execution_count": 10,
   "metadata": {
    "collapsed": false
   },
   "outputs": [
    {
     "name": "stdout",
     "output_type": "stream",
     "text": [
      "# example_table\n",
      "int|float|str |bool |  mix   |          time          \n",
      "--:|----:|----|-----|-------:|------------------------\n",
      "  0| 0.10|hoge|True |       0|2017-01-01 03:04:05+0900\n",
      "  2|-2.23|foo |False|        |2017-12-23 12:34:51+0900\n",
      "  3| 0.00|bar |True |Infinity|2017-03-03 22:44:55+0900\n",
      "-10|-9.90|    |False|     NaN|2017-01-01 00:00:00+0900\n"
     ]
    }
   ],
   "source": [
    "writer = pytablewriter.MarkdownTableWriter()\n",
    "writer.table_name = table_name\n",
    "writer.header_list = header_list\n",
    "writer.value_matrix = data\n",
    "\n",
    "writer.write_table()"
   ]
  },
  {
   "cell_type": "code",
   "execution_count": 11,
   "metadata": {
    "collapsed": false
   },
   "outputs": [
    {
     "name": "stdout",
     "output_type": "stream",
     "text": [
      "{| class=\"wikitable\"\n",
      "|+example_table\n",
      "! int\n",
      "! float\n",
      "! str\n",
      "! bool\n",
      "! mix\n",
      "! time\n",
      "|-\n",
      "| style=\"text-align:right\"| 0\n",
      "| style=\"text-align:right\"| 0.10\n",
      "| hoge\n",
      "| True\n",
      "| style=\"text-align:right\"| 0\n",
      "| 2017-01-01 03:04:05+0900\n",
      "|-\n",
      "| style=\"text-align:right\"| 2\n",
      "| style=\"text-align:right\"| -2.23\n",
      "| foo\n",
      "| False\n",
      "| \n",
      "| 2017-12-23 12:34:51+0900\n",
      "|-\n",
      "| style=\"text-align:right\"| 3\n",
      "| style=\"text-align:right\"| 0.00\n",
      "| bar\n",
      "| True\n",
      "| Infinity\n",
      "| 2017-03-03 22:44:55+0900\n",
      "|-\n",
      "| style=\"text-align:right\"| -10\n",
      "| style=\"text-align:right\"| -9.90\n",
      "| \n",
      "| False\n",
      "| NaN\n",
      "| 2017-01-01 00:00:00+0900\n",
      "|}\n"
     ]
    }
   ],
   "source": [
    "writer = pytablewriter.MediaWikiTableWriter()\n",
    "writer.table_name = table_name\n",
    "writer.header_list = header_list\n",
    "writer.value_matrix = data\n",
    "\n",
    "writer.write_table()"
   ]
  },
  {
   "cell_type": "code",
   "execution_count": 12,
   "metadata": {
    "collapsed": false
   },
   "outputs": [
    {
     "name": "stdout",
     "output_type": "stream",
     "text": [
      "example_table = pandas.DataFrame([\n",
      "    [0, 0.10, \"hoge\", True, 0, dateutil.parser.parse(\"2017-01-01T03:04:05+0900\")],\n",
      "    [2, -2.23, \"foo\", False, None, dateutil.parser.parse(\"2017-12-23T12:34:51+0900\")],\n",
      "    [3, 0.00, \"bar\", True, numpy.inf, dateutil.parser.parse(\"2017-03-03T22:44:55+0900\")],\n",
      "    [-10, -9.90, \"\", False, numpy.nan, dateutil.parser.parse(\"2017-01-01T00:00:00+0900\")],\n",
      "])\n",
      "example_table.columns = [\n",
      "    \"int\",\n",
      "    \"float\",\n",
      "    \"str\",\n",
      "    \"bool\",\n",
      "    \"mix\",\n",
      "    \"time\",\n",
      "]\n"
     ]
    }
   ],
   "source": [
    "writer = pytablewriter.PandasDataFrameWriter()\n",
    "writer.table_name = table_name\n",
    "writer.header_list = header_list\n",
    "writer.value_matrix = data\n",
    "\n",
    "writer.write_table()"
   ]
  },
  {
   "cell_type": "code",
   "execution_count": 13,
   "metadata": {
    "collapsed": false
   },
   "outputs": [
    {
     "name": "stdout",
     "output_type": "stream",
     "text": [
      "example_table = pandas.DataFrame([\n",
      "    [0, 0.10, \"hoge\", True, 0, \"2017-01-01 03:04:05+0900\"],\n",
      "    [2, -2.23, \"foo\", False, None, \"2017-12-23 12:34:51+0900\"],\n",
      "    [3, 0.00, \"bar\", True, numpy.inf, \"2017-03-03 22:44:55+0900\"],\n",
      "    [-10, -9.90, \"\", False, numpy.nan, \"2017-01-01 00:00:00+0900\"],\n",
      "])\n",
      "example_table.columns = [\n",
      "    \"int\",\n",
      "    \"float\",\n",
      "    \"str\",\n",
      "    \"bool\",\n",
      "    \"mix\",\n",
      "    \"time\",\n",
      "]\n"
     ]
    }
   ],
   "source": [
    "writer = pytablewriter.PandasDataFrameWriter()\n",
    "writer.table_name = table_name\n",
    "writer.header_list = header_list\n",
    "writer.value_matrix = data\n",
    "writer.is_datetime_instance_formatting = False\n",
    "\n",
    "writer.write_table()"
   ]
  },
  {
   "cell_type": "code",
   "execution_count": 14,
   "metadata": {
    "collapsed": false
   },
   "outputs": [
    {
     "name": "stdout",
     "output_type": "stream",
     "text": [
      "example_table = [\n",
      "    [\"int\", \"float\", \"str\", \"bool\", \"mix\", \"time\"],\n",
      "    [0, 0.10, \"hoge\", True, 0, dateutil.parser.parse(\"2017-01-01T03:04:05+0900\")],\n",
      "    [2, -2.23, \"foo\", False, None, dateutil.parser.parse(\"2017-12-23T12:34:51+0900\")],\n",
      "    [3, 0.00, \"bar\", True, float(\"inf\"), dateutil.parser.parse(\"2017-03-03T22:44:55+0900\")],\n",
      "    [-10, -9.90, \"\", False, float(\"nan\"), dateutil.parser.parse(\"2017-01-01T00:00:00+0900\")],\n",
      "]\n"
     ]
    }
   ],
   "source": [
    "writer = pytablewriter.PythonCodeTableWriter()\n",
    "writer.table_name = table_name\n",
    "writer.header_list = header_list\n",
    "writer.value_matrix = data\n",
    "\n",
    "writer.write_table()"
   ]
  },
  {
   "cell_type": "code",
   "execution_count": 15,
   "metadata": {
    "collapsed": false
   },
   "outputs": [
    {
     "name": "stdout",
     "output_type": "stream",
     "text": [
      "example_table = [\n",
      "    [\"int\", \"float\", \"str\", \"bool\", \"mix\", \"time\"],\n",
      "    [0, 0.10, \"hoge\", True, 0, \"2017-01-01 03:04:05+0900\"],\n",
      "    [2, -2.23, \"foo\", False, None, \"2017-12-23 12:34:51+0900\"],\n",
      "    [3, 0.00, \"bar\", True, float(\"inf\"), \"2017-03-03 22:44:55+0900\"],\n",
      "    [-10, -9.90, \"\", False, float(\"nan\"), \"2017-01-01 00:00:00+0900\"],\n",
      "]\n"
     ]
    }
   ],
   "source": [
    "writer = pytablewriter.PythonCodeTableWriter()\n",
    "writer.table_name = table_name\n",
    "writer.header_list = header_list\n",
    "writer.value_matrix = data\n",
    "writer.is_datetime_instance_formatting = False\n",
    "\n",
    "writer.write_table()"
   ]
  },
  {
   "cell_type": "code",
   "execution_count": 16,
   "metadata": {
    "collapsed": false,
    "scrolled": false
   },
   "outputs": [
    {
     "name": "stdout",
     "output_type": "stream",
     "text": [
      ".. table:: example_table\n",
      "\n",
      "    +---+-----+----+-----+--------+------------------------+\n",
      "    |int|float|str |bool |  mix   |          time          |\n",
      "    +===+=====+====+=====+========+========================+\n",
      "    |  0| 0.10|hoge|True |       0|2017-01-01 03:04:05+0900|\n",
      "    +---+-----+----+-----+--------+------------------------+\n",
      "    |  2|-2.23|foo |False|        |2017-12-23 12:34:51+0900|\n",
      "    +---+-----+----+-----+--------+------------------------+\n",
      "    |  3| 0.00|bar |True |Infinity|2017-03-03 22:44:55+0900|\n",
      "    +---+-----+----+-----+--------+------------------------+\n",
      "    |-10|-9.90|    |False|     NaN|2017-01-01 00:00:00+0900|\n",
      "    +---+-----+----+-----+--------+------------------------+\n"
     ]
    }
   ],
   "source": [
    "writer = pytablewriter.RstGridTableWriter()\n",
    "writer.table_name = table_name\n",
    "writer.header_list = header_list\n",
    "writer.value_matrix = data\n",
    "\n",
    "writer.write_table()"
   ]
  },
  {
   "cell_type": "code",
   "execution_count": 17,
   "metadata": {
    "collapsed": false
   },
   "outputs": [
    {
     "name": "stdout",
     "output_type": "stream",
     "text": [
      ".. table:: example_table\n",
      "\n",
      "    ===  =====  ====  =====  ========  ========================\n",
      "    int  float  str   bool     mix               time          \n",
      "    ===  =====  ====  =====  ========  ========================\n",
      "      0   0.10  hoge  True          0  2017-01-01 03:04:05+0900\n",
      "      2  -2.23  foo   False            2017-12-23 12:34:51+0900\n",
      "      3   0.00  bar   True   Infinity  2017-03-03 22:44:55+0900\n",
      "    -10  -9.90        False       NaN  2017-01-01 00:00:00+0900\n",
      "    ===  =====  ====  =====  ========  ========================\n"
     ]
    }
   ],
   "source": [
    "writer = pytablewriter.RstSimpleTableWriter()\n",
    "writer.table_name = table_name\n",
    "writer.header_list = header_list\n",
    "writer.value_matrix = data\n",
    "\n",
    "writer.write_table()"
   ]
  },
  {
   "cell_type": "code",
   "execution_count": 18,
   "metadata": {
    "collapsed": false
   },
   "outputs": [
    {
     "name": "stdout",
     "output_type": "stream",
     "text": [
      ".. csv-table:: example_table\n",
      "    :header: \"int\", \"float\", \"str\", \"bool\", \"mix\", \"time\"\n",
      "    :widths: 3, 5, 4, 5, 8, 24\n",
      "    \n",
      "    0, 0.10, \"hoge\", True, 0, \"2017-01-01 03:04:05+0900\"\n",
      "    2, -2.23, \"foo\", False, , \"2017-12-23 12:34:51+0900\"\n",
      "    3, 0.00, \"bar\", True, Infinity, \"2017-03-03 22:44:55+0900\"\n",
      "    -10, -9.90, \"\", False, NaN, \"2017-01-01 00:00:00+0900\"\n"
     ]
    }
   ],
   "source": [
    "writer = pytablewriter.RstCsvTableWriter()\n",
    "writer.table_name = table_name\n",
    "writer.header_list = header_list\n",
    "writer.value_matrix = data\n",
    "\n",
    "writer.write_table()"
   ]
  },
  {
   "cell_type": "code",
   "execution_count": 19,
   "metadata": {
    "collapsed": false
   },
   "outputs": [
    {
     "name": "stdout",
     "output_type": "stream",
     "text": [
      "int:0\tfloat:0.10\tstr:\"hoge\"\tbool:True\tmix:0\ttime:\"2017-01-01 03:04:05+0900\"\n",
      "int:2\tfloat:-2.23\tstr:\"foo\"\tbool:False\ttime:\"2017-12-23 12:34:51+0900\"\n",
      "int:3\tfloat:0.00\tstr:\"bar\"\tbool:True\tmix:Infinity\ttime:\"2017-03-03 22:44:55+0900\"\n",
      "int:-10\tfloat:-9.90\tstr:\"\"\tbool:False\tmix:NaN\ttime:\"2017-01-01 00:00:00+0900\"\n"
     ]
    }
   ],
   "source": [
    "writer = pytablewriter.LtsvTableWriter()\n",
    "writer.header_list = header_list\n",
    "writer.value_matrix = data\n",
    "\n",
    "writer.write_table()"
   ]
  },
  {
   "cell_type": "code",
   "execution_count": 20,
   "metadata": {
    "collapsed": false
   },
   "outputs": [
    {
     "name": "stdout",
     "output_type": "stream",
     "text": [
      "[[example_table]]\n",
      "int = 0\n",
      "float = 0.1\n",
      "mix = 0\n",
      "bool = true\n",
      "str = \"hoge\"\n",
      "time = \"2017-01-01 03:04:05+0900\"\n",
      "[[example_table]]\n",
      "int = 2\n",
      "float = -2.23\n",
      "bool = false\n",
      "str = \"foo\"\n",
      "time = \"2017-12-23 12:34:51+0900\"\n",
      "[[example_table]]\n",
      "int = 3\n",
      "float = 0\n",
      "mix = Infinity\n",
      "bool = true\n",
      "str = \"bar\"\n",
      "time = \"2017-03-03 22:44:55+0900\"\n",
      "[[example_table]]\n",
      "int = -10\n",
      "float = -9.9\n",
      "mix = NaN\n",
      "bool = false\n",
      "str = \"\"\n",
      "time = \"2017-01-01 00:00:00+0900\"\n"
     ]
    }
   ],
   "source": [
    "writer = pytablewriter.TomlTableWriter()\n",
    "writer.table_name = table_name\n",
    "writer.header_list = header_list\n",
    "writer.value_matrix = data\n",
    "\n",
    "writer.write_table()"
   ]
  },
  {
   "cell_type": "code",
   "execution_count": null,
   "metadata": {
    "collapsed": true
   },
   "outputs": [],
   "source": []
  }
 ],
 "metadata": {
  "kernelspec": {
   "display_name": "Python 2",
   "language": "python",
   "name": "python2"
  },
  "language_info": {
   "codemirror_mode": {
    "name": "ipython",
    "version": 2
   },
   "file_extension": ".py",
   "mimetype": "text/x-python",
   "name": "python",
   "nbconvert_exporter": "python",
   "pygments_lexer": "ipython2",
   "version": "2.7.12"
  }
 },
 "nbformat": 4,
 "nbformat_minor": 0
}
